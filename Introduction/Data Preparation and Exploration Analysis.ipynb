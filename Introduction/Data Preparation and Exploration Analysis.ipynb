{
 "cells": [
  {
   "cell_type": "markdown",
   "id": "fb32db94",
   "metadata": {},
   "source": [
    "## Marketing Analytics of MP3 Player\n",
    "\n",
    "The goal of this project is to:\n",
    "\n",
    "* Examine the factors that determine demand for MP3 Player\n",
    "* Understand the role of sales discount in promoting sales\n",
    "* Analyze sales revenue with respect to the socio-demographic characteristics\n",
    "* Perform market segmentation of the consumers\n"
   ]
  },
  {
   "cell_type": "markdown",
   "id": "d023bcd1",
   "metadata": {},
   "source": [
    "### The query to import the data is as follows:\n",
    "\n",
    "SELECT SUM(SalesAmount) AS TotalSales,SUM(DiscountAmount) AS TotalDiscount,\n",
    "BirthDate,\n",
    "\n",
    "DimCustomer.CustomerKey,\n",
    "\n",
    "MaritalStatus,\n",
    "\n",
    "YearlyIncome,\n",
    "\n",
    "Education, \n",
    "\n",
    "Occupation,\n",
    "\n",
    "Gender\n",
    "\n",
    "FROM DimCustomer \n",
    "\n",
    "JOIN FactOnlineSales \n",
    "\n",
    "ON DimCustomer.CustomerKey = FactOnlineSales.CustomerKey\n",
    "\n",
    "WHERE ProductKey IN(1,2,3,4,5,6,7,8,9,10) OR PromotionKey IN(1,2) AND\n",
    "\n",
    "DateKey BETWEEN '2007-01-01' AND '2007-03-31'\n",
    "\n",
    "GROUP BY \n",
    "\n",
    "BirthDate,MaritalStatus,YearlyIncome,Occupation,Gender,Education,DimCustomer.CustomerKey"
   ]
  },
  {
   "cell_type": "markdown",
   "id": "bede22db",
   "metadata": {},
   "source": [
    "### Import the dataset and perform EDA and Cleanings"
   ]
  },
  {
   "cell_type": "code",
   "execution_count": 1,
   "id": "e7e44847",
   "metadata": {},
   "outputs": [],
   "source": [
    "import pandas as pd\n",
    "import numpy as np\n",
    "import seaborn as sns\n",
    "import matplotlib.pyplot as plt"
   ]
  },
  {
   "cell_type": "code",
   "execution_count": 2,
   "id": "4af9d341",
   "metadata": {},
   "outputs": [],
   "source": [
    "import warnings\n",
    "warnings.filterwarnings(\"ignore\")"
   ]
  },
  {
   "cell_type": "code",
   "execution_count": 3,
   "id": "fd12daa3",
   "metadata": {},
   "outputs": [
    {
     "data": {
      "text/html": [
       "<div>\n",
       "<style scoped>\n",
       "    .dataframe tbody tr th:only-of-type {\n",
       "        vertical-align: middle;\n",
       "    }\n",
       "\n",
       "    .dataframe tbody tr th {\n",
       "        vertical-align: top;\n",
       "    }\n",
       "\n",
       "    .dataframe thead th {\n",
       "        text-align: right;\n",
       "    }\n",
       "</style>\n",
       "<table border=\"1\" class=\"dataframe\">\n",
       "  <thead>\n",
       "    <tr style=\"text-align: right;\">\n",
       "      <th></th>\n",
       "      <th>CustomerKey</th>\n",
       "      <th>BirthDate</th>\n",
       "      <th>MaritalStatus</th>\n",
       "      <th>Education</th>\n",
       "      <th>Occupation</th>\n",
       "      <th>Gender</th>\n",
       "      <th>YearlyIncome</th>\n",
       "      <th>TotalSales</th>\n",
       "      <th>TotalDiscount</th>\n",
       "    </tr>\n",
       "  </thead>\n",
       "  <tbody>\n",
       "    <tr>\n",
       "      <th>0</th>\n",
       "      <td>1592</td>\n",
       "      <td>4/21/1961</td>\n",
       "      <td>M</td>\n",
       "      <td>Graduate Degree</td>\n",
       "      <td>Clerical</td>\n",
       "      <td>F</td>\n",
       "      <td>30000</td>\n",
       "      <td>331.4082</td>\n",
       "      <td>50.1018</td>\n",
       "    </tr>\n",
       "    <tr>\n",
       "      <th>1</th>\n",
       "      <td>1595</td>\n",
       "      <td>2/16/1961</td>\n",
       "      <td>M</td>\n",
       "      <td>Graduate Degree</td>\n",
       "      <td>Clerical</td>\n",
       "      <td>F</td>\n",
       "      <td>30000</td>\n",
       "      <td>239.6235</td>\n",
       "      <td>21.9065</td>\n",
       "    </tr>\n",
       "    <tr>\n",
       "      <th>2</th>\n",
       "      <td>1596</td>\n",
       "      <td>6/19/1961</td>\n",
       "      <td>S</td>\n",
       "      <td>Graduate Degree</td>\n",
       "      <td>Clerical</td>\n",
       "      <td>M</td>\n",
       "      <td>30000</td>\n",
       "      <td>170.0351</td>\n",
       "      <td>31.5049</td>\n",
       "    </tr>\n",
       "    <tr>\n",
       "      <th>3</th>\n",
       "      <td>1609</td>\n",
       "      <td>11/9/1959</td>\n",
       "      <td>M</td>\n",
       "      <td>Bachelors</td>\n",
       "      <td>Clerical</td>\n",
       "      <td>M</td>\n",
       "      <td>30000</td>\n",
       "      <td>267.6381</td>\n",
       "      <td>45.3019</td>\n",
       "    </tr>\n",
       "    <tr>\n",
       "      <th>4</th>\n",
       "      <td>1610</td>\n",
       "      <td>9/20/1959</td>\n",
       "      <td>M</td>\n",
       "      <td>Bachelors</td>\n",
       "      <td>Clerical</td>\n",
       "      <td>F</td>\n",
       "      <td>30000</td>\n",
       "      <td>273.6371</td>\n",
       "      <td>39.3029</td>\n",
       "    </tr>\n",
       "  </tbody>\n",
       "</table>\n",
       "</div>"
      ],
      "text/plain": [
       "   CustomerKey  BirthDate MaritalStatus        Education Occupation Gender  \\\n",
       "0         1592  4/21/1961             M  Graduate Degree   Clerical      F   \n",
       "1         1595  2/16/1961             M  Graduate Degree   Clerical      F   \n",
       "2         1596  6/19/1961             S  Graduate Degree   Clerical      M   \n",
       "3         1609  11/9/1959             M        Bachelors   Clerical      M   \n",
       "4         1610  9/20/1959             M        Bachelors   Clerical      F   \n",
       "\n",
       "   YearlyIncome  TotalSales  TotalDiscount  \n",
       "0         30000    331.4082        50.1018  \n",
       "1         30000    239.6235        21.9065  \n",
       "2         30000    170.0351        31.5049  \n",
       "3         30000    267.6381        45.3019  \n",
       "4         30000    273.6371        39.3029  "
      ]
     },
     "execution_count": 3,
     "metadata": {},
     "output_type": "execute_result"
    }
   ],
   "source": [
    "data = pd.read_csv('mp3.csv')\n",
    "data.head()"
   ]
  },
  {
   "cell_type": "code",
   "execution_count": 4,
   "id": "6c7492e4",
   "metadata": {},
   "outputs": [
    {
     "name": "stdout",
     "output_type": "stream",
     "text": [
      "<class 'pandas.core.frame.DataFrame'>\n",
      "RangeIndex: 18630 entries, 0 to 18629\n",
      "Data columns (total 9 columns):\n",
      " #   Column         Non-Null Count  Dtype  \n",
      "---  ------         --------------  -----  \n",
      " 0   CustomerKey    18630 non-null  int64  \n",
      " 1   BirthDate      18245 non-null  object \n",
      " 2   MaritalStatus  18245 non-null  object \n",
      " 3   Education      18245 non-null  object \n",
      " 4   Occupation     18245 non-null  object \n",
      " 5   Gender         18245 non-null  object \n",
      " 6   YearlyIncome   18630 non-null  int64  \n",
      " 7   TotalSales     18630 non-null  float64\n",
      " 8   TotalDiscount  18630 non-null  float64\n",
      "dtypes: float64(2), int64(2), object(5)\n",
      "memory usage: 1.3+ MB\n"
     ]
    }
   ],
   "source": [
    "data.info()"
   ]
  },
  {
   "cell_type": "markdown",
   "id": "da9444af",
   "metadata": {},
   "source": [
    "#### Issues with the dataset\n",
    "\n",
    "* BirthDate imported as object\n",
    "* There are about 350 missing cases\n",
    "* Create a treatment column where TotalDiscount > 0 will be 1 and else 0"
   ]
  },
  {
   "cell_type": "code",
   "execution_count": 5,
   "id": "93a79cd6",
   "metadata": {},
   "outputs": [],
   "source": [
    "data['Birthdate'] = pd.to_datetime(data['BirthDate'], format= '%m/%d/%Y')"
   ]
  },
  {
   "cell_type": "code",
   "execution_count": 6,
   "id": "a6f9f634",
   "metadata": {},
   "outputs": [],
   "source": [
    "data['treat'] = data['TotalDiscount'].apply(lambda x: 1 if x >0 else 0)"
   ]
  },
  {
   "cell_type": "code",
   "execution_count": 7,
   "id": "e139d48f",
   "metadata": {},
   "outputs": [
    {
     "data": {
      "text/html": [
       "<div>\n",
       "<style scoped>\n",
       "    .dataframe tbody tr th:only-of-type {\n",
       "        vertical-align: middle;\n",
       "    }\n",
       "\n",
       "    .dataframe tbody tr th {\n",
       "        vertical-align: top;\n",
       "    }\n",
       "\n",
       "    .dataframe thead th {\n",
       "        text-align: right;\n",
       "    }\n",
       "</style>\n",
       "<table border=\"1\" class=\"dataframe\">\n",
       "  <thead>\n",
       "    <tr style=\"text-align: right;\">\n",
       "      <th></th>\n",
       "      <th>CustomerKey</th>\n",
       "      <th>BirthDate</th>\n",
       "      <th>MaritalStatus</th>\n",
       "      <th>Education</th>\n",
       "      <th>Occupation</th>\n",
       "      <th>Gender</th>\n",
       "      <th>YearlyIncome</th>\n",
       "      <th>TotalSales</th>\n",
       "      <th>TotalDiscount</th>\n",
       "      <th>Birthdate</th>\n",
       "      <th>treat</th>\n",
       "    </tr>\n",
       "  </thead>\n",
       "  <tbody>\n",
       "    <tr>\n",
       "      <th>0</th>\n",
       "      <td>1592</td>\n",
       "      <td>4/21/1961</td>\n",
       "      <td>M</td>\n",
       "      <td>Graduate Degree</td>\n",
       "      <td>Clerical</td>\n",
       "      <td>F</td>\n",
       "      <td>30000</td>\n",
       "      <td>331.4082</td>\n",
       "      <td>50.1018</td>\n",
       "      <td>1961-04-21</td>\n",
       "      <td>1</td>\n",
       "    </tr>\n",
       "    <tr>\n",
       "      <th>1</th>\n",
       "      <td>1595</td>\n",
       "      <td>2/16/1961</td>\n",
       "      <td>M</td>\n",
       "      <td>Graduate Degree</td>\n",
       "      <td>Clerical</td>\n",
       "      <td>F</td>\n",
       "      <td>30000</td>\n",
       "      <td>239.6235</td>\n",
       "      <td>21.9065</td>\n",
       "      <td>1961-02-16</td>\n",
       "      <td>1</td>\n",
       "    </tr>\n",
       "    <tr>\n",
       "      <th>2</th>\n",
       "      <td>1596</td>\n",
       "      <td>6/19/1961</td>\n",
       "      <td>S</td>\n",
       "      <td>Graduate Degree</td>\n",
       "      <td>Clerical</td>\n",
       "      <td>M</td>\n",
       "      <td>30000</td>\n",
       "      <td>170.0351</td>\n",
       "      <td>31.5049</td>\n",
       "      <td>1961-06-19</td>\n",
       "      <td>1</td>\n",
       "    </tr>\n",
       "    <tr>\n",
       "      <th>3</th>\n",
       "      <td>1609</td>\n",
       "      <td>11/9/1959</td>\n",
       "      <td>M</td>\n",
       "      <td>Bachelors</td>\n",
       "      <td>Clerical</td>\n",
       "      <td>M</td>\n",
       "      <td>30000</td>\n",
       "      <td>267.6381</td>\n",
       "      <td>45.3019</td>\n",
       "      <td>1959-11-09</td>\n",
       "      <td>1</td>\n",
       "    </tr>\n",
       "    <tr>\n",
       "      <th>4</th>\n",
       "      <td>1610</td>\n",
       "      <td>9/20/1959</td>\n",
       "      <td>M</td>\n",
       "      <td>Bachelors</td>\n",
       "      <td>Clerical</td>\n",
       "      <td>F</td>\n",
       "      <td>30000</td>\n",
       "      <td>273.6371</td>\n",
       "      <td>39.3029</td>\n",
       "      <td>1959-09-20</td>\n",
       "      <td>1</td>\n",
       "    </tr>\n",
       "  </tbody>\n",
       "</table>\n",
       "</div>"
      ],
      "text/plain": [
       "   CustomerKey  BirthDate MaritalStatus        Education Occupation Gender  \\\n",
       "0         1592  4/21/1961             M  Graduate Degree   Clerical      F   \n",
       "1         1595  2/16/1961             M  Graduate Degree   Clerical      F   \n",
       "2         1596  6/19/1961             S  Graduate Degree   Clerical      M   \n",
       "3         1609  11/9/1959             M        Bachelors   Clerical      M   \n",
       "4         1610  9/20/1959             M        Bachelors   Clerical      F   \n",
       "\n",
       "   YearlyIncome  TotalSales  TotalDiscount  Birthdate  treat  \n",
       "0         30000    331.4082        50.1018 1961-04-21      1  \n",
       "1         30000    239.6235        21.9065 1961-02-16      1  \n",
       "2         30000    170.0351        31.5049 1961-06-19      1  \n",
       "3         30000    267.6381        45.3019 1959-11-09      1  \n",
       "4         30000    273.6371        39.3029 1959-09-20      1  "
      ]
     },
     "execution_count": 7,
     "metadata": {},
     "output_type": "execute_result"
    }
   ],
   "source": [
    "data.head()"
   ]
  },
  {
   "cell_type": "code",
   "execution_count": 8,
   "id": "71c9d197",
   "metadata": {},
   "outputs": [
    {
     "data": {
      "text/html": [
       "<div>\n",
       "<style scoped>\n",
       "    .dataframe tbody tr th:only-of-type {\n",
       "        vertical-align: middle;\n",
       "    }\n",
       "\n",
       "    .dataframe tbody tr th {\n",
       "        vertical-align: top;\n",
       "    }\n",
       "\n",
       "    .dataframe thead th {\n",
       "        text-align: right;\n",
       "    }\n",
       "</style>\n",
       "<table border=\"1\" class=\"dataframe\">\n",
       "  <thead>\n",
       "    <tr style=\"text-align: right;\">\n",
       "      <th></th>\n",
       "      <th>CustomerKey</th>\n",
       "      <th>BirthDate</th>\n",
       "      <th>MaritalStatus</th>\n",
       "      <th>Education</th>\n",
       "      <th>Occupation</th>\n",
       "      <th>Gender</th>\n",
       "      <th>YearlyIncome</th>\n",
       "      <th>TotalSales</th>\n",
       "      <th>TotalDiscount</th>\n",
       "      <th>Birthdate</th>\n",
       "      <th>treat</th>\n",
       "    </tr>\n",
       "  </thead>\n",
       "  <tbody>\n",
       "  </tbody>\n",
       "</table>\n",
       "</div>"
      ],
      "text/plain": [
       "Empty DataFrame\n",
       "Columns: [CustomerKey, BirthDate, MaritalStatus, Education, Occupation, Gender, YearlyIncome, TotalSales, TotalDiscount, Birthdate, treat]\n",
       "Index: []"
      ]
     },
     "execution_count": 8,
     "metadata": {},
     "output_type": "execute_result"
    }
   ],
   "source": [
    "# Check for duplicates\n",
    "\n",
    "duplicateRows = data[data.duplicated(keep=False)]\n",
    "duplicateRows"
   ]
  },
  {
   "cell_type": "code",
   "execution_count": 9,
   "id": "8477c205",
   "metadata": {},
   "outputs": [
    {
     "data": {
      "text/html": [
       "<div>\n",
       "<style scoped>\n",
       "    .dataframe tbody tr th:only-of-type {\n",
       "        vertical-align: middle;\n",
       "    }\n",
       "\n",
       "    .dataframe tbody tr th {\n",
       "        vertical-align: top;\n",
       "    }\n",
       "\n",
       "    .dataframe thead th {\n",
       "        text-align: right;\n",
       "    }\n",
       "</style>\n",
       "<table border=\"1\" class=\"dataframe\">\n",
       "  <thead>\n",
       "    <tr style=\"text-align: right;\">\n",
       "      <th></th>\n",
       "      <th>CustomerKey</th>\n",
       "      <th>BirthDate</th>\n",
       "      <th>MaritalStatus</th>\n",
       "      <th>Education</th>\n",
       "      <th>Occupation</th>\n",
       "      <th>Gender</th>\n",
       "      <th>YearlyIncome</th>\n",
       "      <th>TotalSales</th>\n",
       "      <th>TotalDiscount</th>\n",
       "      <th>Birthdate</th>\n",
       "      <th>treat</th>\n",
       "    </tr>\n",
       "  </thead>\n",
       "  <tbody>\n",
       "    <tr>\n",
       "      <th>12107</th>\n",
       "      <td>18763</td>\n",
       "      <td>NaN</td>\n",
       "      <td>NaN</td>\n",
       "      <td>NaN</td>\n",
       "      <td>NaN</td>\n",
       "      <td>NaN</td>\n",
       "      <td>10000000</td>\n",
       "      <td>2.160344e+06</td>\n",
       "      <td>115618.3705</td>\n",
       "      <td>NaT</td>\n",
       "      <td>1</td>\n",
       "    </tr>\n",
       "    <tr>\n",
       "      <th>12108</th>\n",
       "      <td>18770</td>\n",
       "      <td>NaN</td>\n",
       "      <td>NaN</td>\n",
       "      <td>NaN</td>\n",
       "      <td>NaN</td>\n",
       "      <td>NaN</td>\n",
       "      <td>10000000</td>\n",
       "      <td>1.543495e+03</td>\n",
       "      <td>71.7645</td>\n",
       "      <td>NaT</td>\n",
       "      <td>1</td>\n",
       "    </tr>\n",
       "    <tr>\n",
       "      <th>12109</th>\n",
       "      <td>18777</td>\n",
       "      <td>NaN</td>\n",
       "      <td>NaN</td>\n",
       "      <td>NaN</td>\n",
       "      <td>NaN</td>\n",
       "      <td>NaN</td>\n",
       "      <td>10000000</td>\n",
       "      <td>2.240335e+03</td>\n",
       "      <td>107.3050</td>\n",
       "      <td>NaT</td>\n",
       "      <td>1</td>\n",
       "    </tr>\n",
       "    <tr>\n",
       "      <th>12110</th>\n",
       "      <td>18788</td>\n",
       "      <td>NaN</td>\n",
       "      <td>NaN</td>\n",
       "      <td>NaN</td>\n",
       "      <td>NaN</td>\n",
       "      <td>NaN</td>\n",
       "      <td>10000000</td>\n",
       "      <td>1.577063e+03</td>\n",
       "      <td>119.7565</td>\n",
       "      <td>NaT</td>\n",
       "      <td>1</td>\n",
       "    </tr>\n",
       "    <tr>\n",
       "      <th>12111</th>\n",
       "      <td>18795</td>\n",
       "      <td>NaN</td>\n",
       "      <td>NaN</td>\n",
       "      <td>NaN</td>\n",
       "      <td>NaN</td>\n",
       "      <td>NaN</td>\n",
       "      <td>10000000</td>\n",
       "      <td>1.222281e+03</td>\n",
       "      <td>75.4510</td>\n",
       "      <td>NaT</td>\n",
       "      <td>1</td>\n",
       "    </tr>\n",
       "    <tr>\n",
       "      <th>...</th>\n",
       "      <td>...</td>\n",
       "      <td>...</td>\n",
       "      <td>...</td>\n",
       "      <td>...</td>\n",
       "      <td>...</td>\n",
       "      <td>...</td>\n",
       "      <td>...</td>\n",
       "      <td>...</td>\n",
       "      <td>...</td>\n",
       "      <td>...</td>\n",
       "      <td>...</td>\n",
       "    </tr>\n",
       "    <tr>\n",
       "      <th>18138</th>\n",
       "      <td>19101</td>\n",
       "      <td>NaN</td>\n",
       "      <td>NaN</td>\n",
       "      <td>NaN</td>\n",
       "      <td>NaN</td>\n",
       "      <td>NaN</td>\n",
       "      <td>10000000</td>\n",
       "      <td>1.020259e+04</td>\n",
       "      <td>335.9440</td>\n",
       "      <td>NaT</td>\n",
       "      <td>1</td>\n",
       "    </tr>\n",
       "    <tr>\n",
       "      <th>18139</th>\n",
       "      <td>19116</td>\n",
       "      <td>NaN</td>\n",
       "      <td>NaN</td>\n",
       "      <td>NaN</td>\n",
       "      <td>NaN</td>\n",
       "      <td>NaN</td>\n",
       "      <td>10000000</td>\n",
       "      <td>7.510832e+03</td>\n",
       "      <td>1873.9585</td>\n",
       "      <td>NaT</td>\n",
       "      <td>1</td>\n",
       "    </tr>\n",
       "    <tr>\n",
       "      <th>18140</th>\n",
       "      <td>19118</td>\n",
       "      <td>NaN</td>\n",
       "      <td>NaN</td>\n",
       "      <td>NaN</td>\n",
       "      <td>NaN</td>\n",
       "      <td>NaN</td>\n",
       "      <td>10000000</td>\n",
       "      <td>2.987172e+03</td>\n",
       "      <td>334.0650</td>\n",
       "      <td>NaT</td>\n",
       "      <td>1</td>\n",
       "    </tr>\n",
       "    <tr>\n",
       "      <th>18141</th>\n",
       "      <td>19133</td>\n",
       "      <td>NaN</td>\n",
       "      <td>NaN</td>\n",
       "      <td>NaN</td>\n",
       "      <td>NaN</td>\n",
       "      <td>NaN</td>\n",
       "      <td>10000000</td>\n",
       "      <td>7.624460e+03</td>\n",
       "      <td>0.0000</td>\n",
       "      <td>NaT</td>\n",
       "      <td>0</td>\n",
       "    </tr>\n",
       "    <tr>\n",
       "      <th>18142</th>\n",
       "      <td>19135</td>\n",
       "      <td>NaN</td>\n",
       "      <td>NaN</td>\n",
       "      <td>NaN</td>\n",
       "      <td>NaN</td>\n",
       "      <td>NaN</td>\n",
       "      <td>10000000</td>\n",
       "      <td>5.742072e+03</td>\n",
       "      <td>11.9980</td>\n",
       "      <td>NaT</td>\n",
       "      <td>1</td>\n",
       "    </tr>\n",
       "  </tbody>\n",
       "</table>\n",
       "<p>385 rows × 11 columns</p>\n",
       "</div>"
      ],
      "text/plain": [
       "       CustomerKey BirthDate MaritalStatus Education Occupation Gender  \\\n",
       "12107        18763       NaN           NaN       NaN        NaN    NaN   \n",
       "12108        18770       NaN           NaN       NaN        NaN    NaN   \n",
       "12109        18777       NaN           NaN       NaN        NaN    NaN   \n",
       "12110        18788       NaN           NaN       NaN        NaN    NaN   \n",
       "12111        18795       NaN           NaN       NaN        NaN    NaN   \n",
       "...            ...       ...           ...       ...        ...    ...   \n",
       "18138        19101       NaN           NaN       NaN        NaN    NaN   \n",
       "18139        19116       NaN           NaN       NaN        NaN    NaN   \n",
       "18140        19118       NaN           NaN       NaN        NaN    NaN   \n",
       "18141        19133       NaN           NaN       NaN        NaN    NaN   \n",
       "18142        19135       NaN           NaN       NaN        NaN    NaN   \n",
       "\n",
       "       YearlyIncome    TotalSales  TotalDiscount Birthdate  treat  \n",
       "12107      10000000  2.160344e+06    115618.3705       NaT      1  \n",
       "12108      10000000  1.543495e+03        71.7645       NaT      1  \n",
       "12109      10000000  2.240335e+03       107.3050       NaT      1  \n",
       "12110      10000000  1.577063e+03       119.7565       NaT      1  \n",
       "12111      10000000  1.222281e+03        75.4510       NaT      1  \n",
       "...             ...           ...            ...       ...    ...  \n",
       "18138      10000000  1.020259e+04       335.9440       NaT      1  \n",
       "18139      10000000  7.510832e+03      1873.9585       NaT      1  \n",
       "18140      10000000  2.987172e+03       334.0650       NaT      1  \n",
       "18141      10000000  7.624460e+03         0.0000       NaT      0  \n",
       "18142      10000000  5.742072e+03        11.9980       NaT      1  \n",
       "\n",
       "[385 rows x 11 columns]"
      ]
     },
     "execution_count": 9,
     "metadata": {},
     "output_type": "execute_result"
    }
   ],
   "source": [
    "# Display rows with missing data\n",
    "\n",
    "data[data.isnull().any(axis=1)]"
   ]
  },
  {
   "cell_type": "markdown",
   "id": "b6cb8e6a",
   "metadata": {},
   "source": [
    "We can drop all the rows with missing values.  These rows typically are those of the corporate customers."
   ]
  },
  {
   "cell_type": "code",
   "execution_count": 10,
   "id": "b7af7776",
   "metadata": {},
   "outputs": [],
   "source": [
    "data = data.dropna()"
   ]
  },
  {
   "cell_type": "code",
   "execution_count": 11,
   "id": "dc706344",
   "metadata": {},
   "outputs": [
    {
     "name": "stdout",
     "output_type": "stream",
     "text": [
      "<class 'pandas.core.frame.DataFrame'>\n",
      "Int64Index: 18245 entries, 0 to 18629\n",
      "Data columns (total 11 columns):\n",
      " #   Column         Non-Null Count  Dtype         \n",
      "---  ------         --------------  -----         \n",
      " 0   CustomerKey    18245 non-null  int64         \n",
      " 1   BirthDate      18245 non-null  object        \n",
      " 2   MaritalStatus  18245 non-null  object        \n",
      " 3   Education      18245 non-null  object        \n",
      " 4   Occupation     18245 non-null  object        \n",
      " 5   Gender         18245 non-null  object        \n",
      " 6   YearlyIncome   18245 non-null  int64         \n",
      " 7   TotalSales     18245 non-null  float64       \n",
      " 8   TotalDiscount  18245 non-null  float64       \n",
      " 9   Birthdate      18245 non-null  datetime64[ns]\n",
      " 10  treat          18245 non-null  int64         \n",
      "dtypes: datetime64[ns](1), float64(2), int64(3), object(5)\n",
      "memory usage: 1.7+ MB\n"
     ]
    }
   ],
   "source": [
    "data.info()"
   ]
  },
  {
   "cell_type": "markdown",
   "id": "b47d17f3",
   "metadata": {},
   "source": [
    "#### Create age from Birthdate column"
   ]
  },
  {
   "cell_type": "code",
   "execution_count": 12,
   "id": "4056975a",
   "metadata": {},
   "outputs": [],
   "source": [
    "from datetime import datetime\n",
    "today = datetime.today()\n",
    "\n",
    "data['age'] = data['Birthdate'].apply(\n",
    "               lambda x: today.year - x.year - \n",
    "               ((today.month, today.day) < (x.month, x.day)) \n",
    "               )"
   ]
  },
  {
   "cell_type": "code",
   "execution_count": 13,
   "id": "e4230b6a",
   "metadata": {},
   "outputs": [
    {
     "data": {
      "text/html": [
       "<div>\n",
       "<style scoped>\n",
       "    .dataframe tbody tr th:only-of-type {\n",
       "        vertical-align: middle;\n",
       "    }\n",
       "\n",
       "    .dataframe tbody tr th {\n",
       "        vertical-align: top;\n",
       "    }\n",
       "\n",
       "    .dataframe thead th {\n",
       "        text-align: right;\n",
       "    }\n",
       "</style>\n",
       "<table border=\"1\" class=\"dataframe\">\n",
       "  <thead>\n",
       "    <tr style=\"text-align: right;\">\n",
       "      <th></th>\n",
       "      <th>CustomerKey</th>\n",
       "      <th>BirthDate</th>\n",
       "      <th>MaritalStatus</th>\n",
       "      <th>Education</th>\n",
       "      <th>Occupation</th>\n",
       "      <th>Gender</th>\n",
       "      <th>YearlyIncome</th>\n",
       "      <th>TotalSales</th>\n",
       "      <th>TotalDiscount</th>\n",
       "      <th>Birthdate</th>\n",
       "      <th>treat</th>\n",
       "      <th>age</th>\n",
       "    </tr>\n",
       "  </thead>\n",
       "  <tbody>\n",
       "    <tr>\n",
       "      <th>0</th>\n",
       "      <td>1592</td>\n",
       "      <td>4/21/1961</td>\n",
       "      <td>M</td>\n",
       "      <td>Graduate Degree</td>\n",
       "      <td>Clerical</td>\n",
       "      <td>F</td>\n",
       "      <td>30000</td>\n",
       "      <td>331.4082</td>\n",
       "      <td>50.1018</td>\n",
       "      <td>1961-04-21</td>\n",
       "      <td>1</td>\n",
       "      <td>62</td>\n",
       "    </tr>\n",
       "    <tr>\n",
       "      <th>1</th>\n",
       "      <td>1595</td>\n",
       "      <td>2/16/1961</td>\n",
       "      <td>M</td>\n",
       "      <td>Graduate Degree</td>\n",
       "      <td>Clerical</td>\n",
       "      <td>F</td>\n",
       "      <td>30000</td>\n",
       "      <td>239.6235</td>\n",
       "      <td>21.9065</td>\n",
       "      <td>1961-02-16</td>\n",
       "      <td>1</td>\n",
       "      <td>62</td>\n",
       "    </tr>\n",
       "    <tr>\n",
       "      <th>2</th>\n",
       "      <td>1596</td>\n",
       "      <td>6/19/1961</td>\n",
       "      <td>S</td>\n",
       "      <td>Graduate Degree</td>\n",
       "      <td>Clerical</td>\n",
       "      <td>M</td>\n",
       "      <td>30000</td>\n",
       "      <td>170.0351</td>\n",
       "      <td>31.5049</td>\n",
       "      <td>1961-06-19</td>\n",
       "      <td>1</td>\n",
       "      <td>62</td>\n",
       "    </tr>\n",
       "    <tr>\n",
       "      <th>3</th>\n",
       "      <td>1609</td>\n",
       "      <td>11/9/1959</td>\n",
       "      <td>M</td>\n",
       "      <td>Bachelors</td>\n",
       "      <td>Clerical</td>\n",
       "      <td>M</td>\n",
       "      <td>30000</td>\n",
       "      <td>267.6381</td>\n",
       "      <td>45.3019</td>\n",
       "      <td>1959-11-09</td>\n",
       "      <td>1</td>\n",
       "      <td>63</td>\n",
       "    </tr>\n",
       "    <tr>\n",
       "      <th>4</th>\n",
       "      <td>1610</td>\n",
       "      <td>9/20/1959</td>\n",
       "      <td>M</td>\n",
       "      <td>Bachelors</td>\n",
       "      <td>Clerical</td>\n",
       "      <td>F</td>\n",
       "      <td>30000</td>\n",
       "      <td>273.6371</td>\n",
       "      <td>39.3029</td>\n",
       "      <td>1959-09-20</td>\n",
       "      <td>1</td>\n",
       "      <td>63</td>\n",
       "    </tr>\n",
       "  </tbody>\n",
       "</table>\n",
       "</div>"
      ],
      "text/plain": [
       "   CustomerKey  BirthDate MaritalStatus        Education Occupation Gender  \\\n",
       "0         1592  4/21/1961             M  Graduate Degree   Clerical      F   \n",
       "1         1595  2/16/1961             M  Graduate Degree   Clerical      F   \n",
       "2         1596  6/19/1961             S  Graduate Degree   Clerical      M   \n",
       "3         1609  11/9/1959             M        Bachelors   Clerical      M   \n",
       "4         1610  9/20/1959             M        Bachelors   Clerical      F   \n",
       "\n",
       "   YearlyIncome  TotalSales  TotalDiscount  Birthdate  treat  age  \n",
       "0         30000    331.4082        50.1018 1961-04-21      1   62  \n",
       "1         30000    239.6235        21.9065 1961-02-16      1   62  \n",
       "2         30000    170.0351        31.5049 1961-06-19      1   62  \n",
       "3         30000    267.6381        45.3019 1959-11-09      1   63  \n",
       "4         30000    273.6371        39.3029 1959-09-20      1   63  "
      ]
     },
     "execution_count": 13,
     "metadata": {},
     "output_type": "execute_result"
    }
   ],
   "source": [
    "data.head()"
   ]
  },
  {
   "cell_type": "code",
   "execution_count": 14,
   "id": "72d8a8d9",
   "metadata": {},
   "outputs": [],
   "source": [
    "# Drop unnecessary columns--CustomerKey, BirthDate, Birthdate\n",
    "\n",
    "data = data.drop(['CustomerKey','BirthDate','Birthdate'],axis=1)"
   ]
  },
  {
   "cell_type": "code",
   "execution_count": 15,
   "id": "b342e54a",
   "metadata": {},
   "outputs": [
    {
     "data": {
      "text/html": [
       "<div>\n",
       "<style scoped>\n",
       "    .dataframe tbody tr th:only-of-type {\n",
       "        vertical-align: middle;\n",
       "    }\n",
       "\n",
       "    .dataframe tbody tr th {\n",
       "        vertical-align: top;\n",
       "    }\n",
       "\n",
       "    .dataframe thead th {\n",
       "        text-align: right;\n",
       "    }\n",
       "</style>\n",
       "<table border=\"1\" class=\"dataframe\">\n",
       "  <thead>\n",
       "    <tr style=\"text-align: right;\">\n",
       "      <th></th>\n",
       "      <th>MaritalStatus</th>\n",
       "      <th>Education</th>\n",
       "      <th>Occupation</th>\n",
       "      <th>Gender</th>\n",
       "      <th>YearlyIncome</th>\n",
       "      <th>TotalSales</th>\n",
       "      <th>TotalDiscount</th>\n",
       "      <th>treat</th>\n",
       "      <th>age</th>\n",
       "    </tr>\n",
       "  </thead>\n",
       "  <tbody>\n",
       "    <tr>\n",
       "      <th>0</th>\n",
       "      <td>M</td>\n",
       "      <td>Graduate Degree</td>\n",
       "      <td>Clerical</td>\n",
       "      <td>F</td>\n",
       "      <td>30000</td>\n",
       "      <td>331.4082</td>\n",
       "      <td>50.1018</td>\n",
       "      <td>1</td>\n",
       "      <td>62</td>\n",
       "    </tr>\n",
       "    <tr>\n",
       "      <th>1</th>\n",
       "      <td>M</td>\n",
       "      <td>Graduate Degree</td>\n",
       "      <td>Clerical</td>\n",
       "      <td>F</td>\n",
       "      <td>30000</td>\n",
       "      <td>239.6235</td>\n",
       "      <td>21.9065</td>\n",
       "      <td>1</td>\n",
       "      <td>62</td>\n",
       "    </tr>\n",
       "    <tr>\n",
       "      <th>2</th>\n",
       "      <td>S</td>\n",
       "      <td>Graduate Degree</td>\n",
       "      <td>Clerical</td>\n",
       "      <td>M</td>\n",
       "      <td>30000</td>\n",
       "      <td>170.0351</td>\n",
       "      <td>31.5049</td>\n",
       "      <td>1</td>\n",
       "      <td>62</td>\n",
       "    </tr>\n",
       "    <tr>\n",
       "      <th>3</th>\n",
       "      <td>M</td>\n",
       "      <td>Bachelors</td>\n",
       "      <td>Clerical</td>\n",
       "      <td>M</td>\n",
       "      <td>30000</td>\n",
       "      <td>267.6381</td>\n",
       "      <td>45.3019</td>\n",
       "      <td>1</td>\n",
       "      <td>63</td>\n",
       "    </tr>\n",
       "    <tr>\n",
       "      <th>4</th>\n",
       "      <td>M</td>\n",
       "      <td>Bachelors</td>\n",
       "      <td>Clerical</td>\n",
       "      <td>F</td>\n",
       "      <td>30000</td>\n",
       "      <td>273.6371</td>\n",
       "      <td>39.3029</td>\n",
       "      <td>1</td>\n",
       "      <td>63</td>\n",
       "    </tr>\n",
       "  </tbody>\n",
       "</table>\n",
       "</div>"
      ],
      "text/plain": [
       "  MaritalStatus        Education Occupation Gender  YearlyIncome  TotalSales  \\\n",
       "0             M  Graduate Degree   Clerical      F         30000    331.4082   \n",
       "1             M  Graduate Degree   Clerical      F         30000    239.6235   \n",
       "2             S  Graduate Degree   Clerical      M         30000    170.0351   \n",
       "3             M        Bachelors   Clerical      M         30000    267.6381   \n",
       "4             M        Bachelors   Clerical      F         30000    273.6371   \n",
       "\n",
       "   TotalDiscount  treat  age  \n",
       "0        50.1018      1   62  \n",
       "1        21.9065      1   62  \n",
       "2        31.5049      1   62  \n",
       "3        45.3019      1   63  \n",
       "4        39.3029      1   63  "
      ]
     },
     "execution_count": 15,
     "metadata": {},
     "output_type": "execute_result"
    }
   ],
   "source": [
    "data.head()"
   ]
  },
  {
   "cell_type": "markdown",
   "id": "ed32da72",
   "metadata": {},
   "source": [
    "### Exploratory Data Analysis"
   ]
  },
  {
   "cell_type": "code",
   "execution_count": 27,
   "id": "2c6b4fd5",
   "metadata": {},
   "outputs": [
    {
     "data": {
      "image/png": "[encoded data removed]",
      "text/plain": [
       "<Figure size 500x500 with 1 Axes>"
      ]
     },
     "metadata": {},
     "output_type": "display_data"
    }
   ],
   "source": [
    "# Age Distribution of the customers\n",
    "\n",
    "sns.displot(data=data,kind='hist',x='age',binwidth=5);"
   ]
  },
  {
   "cell_type": "markdown",
   "id": "87e9500a",
   "metadata": {},
   "source": [
    "The age distribution of the consumers are mostly between 50 and 65 years old, while we have a few with over 90 years old."
   ]
  },
  {
   "cell_type": "code",
   "execution_count": 18,
   "id": "c37cd74e",
   "metadata": {},
   "outputs": [
    {
     "data": {
      "image/png": "[encoded data removed]",
      "text/plain": [
       "<Figure size 500x500 with 1 Axes>"
      ]
     },
     "metadata": {},
     "output_type": "display_data"
    }
   ],
   "source": [
    "# Distribution of Income of Consumers\n",
    "sns.displot(data=data,kind='hist',x='YearlyIncome',bins=10)\n",
    "plt.xticks(rotation=45, ha='right');\n",
    "plt.show()"
   ]
  },
  {
   "cell_type": "code",
   "execution_count": 19,
   "id": "983fefe8",
   "metadata": {},
   "outputs": [
    {
     "data": {
      "image/png": "[encoded data removed]",
      "text/plain": [
       "<Figure size 500x500 with 1 Axes>"
      ]
     },
     "metadata": {},
     "output_type": "display_data"
    }
   ],
   "source": [
    "# Yearly Income by Education\n",
    "\n",
    "sns.catplot(data=data,kind='bar',x='YearlyIncome',y='Education');"
   ]
  },
  {
   "cell_type": "code",
   "execution_count": 20,
   "id": "1db27b4f",
   "metadata": {},
   "outputs": [
    {
     "data": {
      "image/png": "[encoded data removed]",
      "text/plain": [
       "<Figure size 500x500 with 1 Axes>"
      ]
     },
     "metadata": {},
     "output_type": "display_data"
    }
   ],
   "source": [
    "# Yearly Income by Occupation\n",
    "\n",
    "sns.catplot(data=data,kind='bar',x='YearlyIncome',y='Occupation');"
   ]
  },
  {
   "cell_type": "code",
   "execution_count": 21,
   "id": "2241b8eb",
   "metadata": {},
   "outputs": [
    {
     "data": {
      "image/png": "[encoded data removed]",
      "text/plain": [
       "<Figure size 500x500 with 1 Axes>"
      ]
     },
     "metadata": {},
     "output_type": "display_data"
    }
   ],
   "source": [
    "sns.catplot(data=data,kind='bar',x='TotalDiscount',y='Education');"
   ]
  },
  {
   "cell_type": "code",
   "execution_count": 22,
   "id": "4015badb",
   "metadata": {},
   "outputs": [
    {
     "data": {
      "image/png": "[encoded data removed]",
      "text/plain": [
       "<Figure size 500x500 with 1 Axes>"
      ]
     },
     "metadata": {},
     "output_type": "display_data"
    }
   ],
   "source": [
    "# Total Discount by Occupation\n",
    "\n",
    "sns.catplot(data=data,kind='bar',x='TotalDiscount',y='Occupation');"
   ]
  },
  {
   "cell_type": "code",
   "execution_count": 23,
   "id": "c85634ec",
   "metadata": {},
   "outputs": [
    {
     "data": {
      "image/png": "[encoded data removed]",
      "text/plain": [
       "<Figure size 500x500 with 1 Axes>"
      ]
     },
     "metadata": {},
     "output_type": "display_data"
    }
   ],
   "source": [
    "# Total Sales by Educational level\n",
    "\n",
    "sns.catplot(data=data,kind='bar',x='TotalSales',y='Education');"
   ]
  },
  {
   "cell_type": "code",
   "execution_count": 24,
   "id": "d663240b",
   "metadata": {},
   "outputs": [
    {
     "data": {
      "image/png": "[encoded data removed]",
      "text/plain": [
       "<Figure size 500x500 with 1 Axes>"
      ]
     },
     "metadata": {},
     "output_type": "display_data"
    }
   ],
   "source": [
    "# Total Sales by Gender\n",
    "\n",
    "sns.catplot(data=data,kind='bar',y='TotalSales',x='Gender');"
   ]
  },
  {
   "cell_type": "code",
   "execution_count": 25,
   "id": "6324acf8",
   "metadata": {},
   "outputs": [
    {
     "data": {
      "image/png": "[encoded data removed]",
      "text/plain": [
       "<Figure size 500x500 with 1 Axes>"
      ]
     },
     "metadata": {},
     "output_type": "display_data"
    }
   ],
   "source": [
    "# Total Sales by Occupation\n",
    "\n",
    "sns.catplot(data=data,kind='bar',y='TotalSales',x='Occupation')\n",
    "plt.xticks(rotation = 45,ha='right');"
   ]
  },
  {
   "cell_type": "code",
   "execution_count": 26,
   "id": "fc37ac62",
   "metadata": {},
   "outputs": [
    {
     "data": {
      "image/png": "[encoded data removed]",
      "text/plain": [
       "<Figure size 500x500 with 1 Axes>"
      ]
     },
     "metadata": {},
     "output_type": "display_data"
    }
   ],
   "source": [
    "# Total sales by Marital status\n",
    "\n",
    "sns.catplot(data=data,kind='bar',y='TotalSales',x='MaritalStatus');"
   ]
  },
  {
   "cell_type": "code",
   "execution_count": null,
   "id": "9e131b0d",
   "metadata": {},
   "outputs": [],
   "source": []
  }
 ],
 "metadata": {
  "kernelspec": {
   "display_name": "Python 3 (ipykernel)",
   "language": "python",
   "name": "python3"
  },
  "language_info": {
   "codemirror_mode": {
    "name": "ipython",
    "version": 3
   },
   "file_extension": ".py",
   "mimetype": "text/x-python",
   "name": "python",
   "nbconvert_exporter": "python",
   "pygments_lexer": "ipython3",
   "version": "3.9.7"
  }
 },
 "nbformat": 4,
 "nbformat_minor": 5
}
